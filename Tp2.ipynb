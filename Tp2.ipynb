{
 "cells": [
  {
   "cell_type": "code",
   "execution_count": 64,
   "id": "241be7c2",
   "metadata": {},
   "outputs": [],
   "source": [
    "import pandas as ps\n",
    "import numpy as np\n",
    "import math as m\n",
    "import matplotlib.pyplot as plt"
   ]
  },
  {
   "cell_type": "code",
   "execution_count": 65,
   "id": "0e8bfc90",
   "metadata": {},
   "outputs": [],
   "source": [
    "data= ps.read_csv('data.csv')"
   ]
  },
  {
   "cell_type": "code",
   "execution_count": 66,
   "id": "34071ccb",
   "metadata": {},
   "outputs": [
    {
     "data": {
      "text/plain": [
       "pandas.core.frame.DataFrame"
      ]
     },
     "execution_count": 66,
     "metadata": {},
     "output_type": "execute_result"
    }
   ],
   "source": [
    "type(data)"
   ]
  },
  {
   "cell_type": "code",
   "execution_count": 67,
   "id": "991a188a",
   "metadata": {},
   "outputs": [],
   "source": [
    "data.tail()\n",
    "v1=data.iloc[:,0]\n",
    "v2=data.iloc[:,1]"
   ]
  },
  {
   "cell_type": "code",
   "execution_count": 68,
   "id": "fa9488d5",
   "metadata": {},
   "outputs": [
    {
     "name": "stdout",
     "output_type": "stream",
     "text": [
      "145.0\n",
      "67.3\n"
     ]
    }
   ],
   "source": [
    "moyenten, moyenren=data.mean()\n",
    "print(moyenten)\n",
    "print(moyenren)"
   ]
  },
  {
   "cell_type": "code",
   "execution_count": 69,
   "id": "740fb2db",
   "metadata": {},
   "outputs": [],
   "source": [
    "def getmoyen(v):\n",
    "    m=1/len(v)*sum(v)\n",
    "    return(m)"
   ]
  },
  {
   "cell_type": "code",
   "execution_count": 70,
   "id": "03e797a6",
   "metadata": {},
   "outputs": [
    {
     "name": "stdout",
     "output_type": "stream",
     "text": [
      "145.0\n",
      "67.3\n"
     ]
    }
   ],
   "source": [
    "print(getmoyen(v1))\n",
    "print(getmoyen(v2))"
   ]
  },
  {
   "cell_type": "code",
   "execution_count": 71,
   "id": "21eefc1e",
   "metadata": {},
   "outputs": [],
   "source": [
    "def getvar(v):\n",
    "    var=1/len(v)*sum((v-getmoyen(v))*(v-getmoyen(v)))\n",
    "    return(var)"
   ]
  },
  {
   "cell_type": "code",
   "execution_count": 72,
   "id": "fd2b3e9f",
   "metadata": {},
   "outputs": [
    {
     "name": "stdout",
     "output_type": "stream",
     "text": [
      "825.0\n",
      "193.20999999999998\n"
     ]
    }
   ],
   "source": [
    "print(getvar(v1))\n",
    "print(getvar(v2))\n"
   ]
  },
  {
   "cell_type": "code",
   "execution_count": 88,
   "id": "159709cd",
   "metadata": {},
   "outputs": [],
   "source": [
    "def getCov(v,vi):\n",
    "    cov=1/len(v)*sum(v*vi)-getmoyen(v)*getmoyen(vi)\n",
    "    return(cov)"
   ]
  },
  {
   "cell_type": "code",
   "execution_count": 89,
   "id": "6211f1fb",
   "metadata": {},
   "outputs": [
    {
     "name": "stdout",
     "output_type": "stream",
     "text": [
      "398.5\n"
     ]
    }
   ],
   "source": [
    "print(getCov(v1,v2))"
   ]
  },
  {
   "cell_type": "code",
   "execution_count": 90,
   "id": "e14d5982",
   "metadata": {},
   "outputs": [],
   "source": [
    "def getAlpha(v,vi):\n",
    "    m=getCov(v,vi)/getvar(v)\n",
    "    return(m)"
   ]
  },
  {
   "cell_type": "code",
   "execution_count": 91,
   "id": "3e08ff31",
   "metadata": {},
   "outputs": [
    {
     "name": "stdout",
     "output_type": "stream",
     "text": [
      "0.48303030303030303\n"
     ]
    }
   ],
   "source": [
    "print(getAlpha(v1,v2))"
   ]
  },
  {
   "cell_type": "code",
   "execution_count": 92,
   "id": "acde15ae",
   "metadata": {},
   "outputs": [],
   "source": [
    "def getBetta(v,vi):\n",
    "    m=getmoyen(vi)-getAlpha(v,vi)*getmoyen(v)\n",
    "    return(m)"
   ]
  },
  {
   "cell_type": "code",
   "execution_count": 93,
   "id": "3f6f6285",
   "metadata": {},
   "outputs": [
    {
     "name": "stdout",
     "output_type": "stream",
     "text": [
      "-2.739393939393949\n"
     ]
    }
   ],
   "source": [
    "print(getBetta(v1,v2))"
   ]
  },
  {
   "cell_type": "code",
   "execution_count": 125,
   "id": "5efa52d0",
   "metadata": {},
   "outputs": [],
   "source": [
    "def getVal(x,v,vi):\n",
    "    m=getAlpha(v,vi)*x+getBetta(v,vi)\n",
    "    return(m)"
   ]
  },
  {
   "cell_type": "code",
   "execution_count": 126,
   "id": "7ee5eca2",
   "metadata": {},
   "outputs": [
    {
     "name": "stdout",
     "output_type": "stream",
     "text": [
      "56.19030303030302\n"
     ]
    }
   ],
   "source": [
    "print(getVal(122,v1,v2))"
   ]
  },
  {
   "cell_type": "code",
   "execution_count": 128,
   "id": "872edda7",
   "metadata": {},
   "outputs": [
    {
     "data": {
      "image/png": "[encoded data removed]",
      "text/plain": [
       "<Figure size 640x480 with 1 Axes>"
      ]
     },
     "metadata": {},
     "output_type": "display_data"
    }
   ],
   "source": [
    "import matplotlib.pyplot as plt\n",
    "#tracer les valeurs propres principauxmarker='o'\n",
    "plt.plot(v1, v2,'.',color='g')\n",
    "plt.plot(v1, getVal(v1,v1,v2),color='r')\n",
    "plt.xlabel('temperature')\n",
    "plt.ylabel('rendemment')\n",
    "plt.show()"
   ]
  },
  {
   "cell_type": "code",
   "execution_count": 129,
   "id": "141da5ae",
   "metadata": {},
   "outputs": [],
   "source": [
    "def getCorr(v,vi):\n",
    "    m=getCov(v,vi)/(np.sqrt(getvar(v))*np.sqrt(getvar(vi)))\n",
    "    return(m)"
   ]
  },
  {
   "cell_type": "code",
   "execution_count": 130,
   "id": "d489c7af",
   "metadata": {},
   "outputs": [
    {
     "name": "stdout",
     "output_type": "stream",
     "text": [
      "0.9981287179618071\n"
     ]
    }
   ],
   "source": [
    "print(getCorr(v1,v2))"
   ]
  },
  {
   "cell_type": "code",
   "execution_count": 131,
   "id": "72ad3089",
   "metadata": {},
   "outputs": [],
   "source": [
    "def getDet(v,vi):\n",
    "    m=np.square(getCorr(v,vi))\n",
    "    return(m)"
   ]
  },
  {
   "cell_type": "code",
   "execution_count": 132,
   "id": "9fa4fece",
   "metadata": {},
   "outputs": [
    {
     "name": "stdout",
     "output_type": "stream",
     "text": [
      "0.9962609376200807\n"
     ]
    }
   ],
   "source": [
    "print(getDet(v1,v2))"
   ]
  },
  {
   "cell_type": "code",
   "execution_count": 134,
   "id": "290c6cc1",
   "metadata": {},
   "outputs": [],
   "source": [
    "x1=ps.Series([105,180])\n",
    "v11=ps.concat([v1,x1],ignore_index=True)\n",
    "x2=ps.Series([70,70])\n",
    "v22=ps.concat([v2,x2],ignore_index=True)\n"
   ]
  },
  {
   "cell_type": "code",
   "execution_count": 135,
   "id": "83c80131",
   "metadata": {},
   "outputs": [
    {
     "name": "stdout",
     "output_type": "stream",
     "text": [
      "0     100\n",
      "1     110\n",
      "2     120\n",
      "3     130\n",
      "4     140\n",
      "5     150\n",
      "6     160\n",
      "7     170\n",
      "8     180\n",
      "9     190\n",
      "10    105\n",
      "11    180\n",
      "dtype: int64\n"
     ]
    }
   ],
   "source": [
    "print(v11)"
   ]
  },
  {
   "cell_type": "code",
   "execution_count": 136,
   "id": "72537f96",
   "metadata": {},
   "outputs": [
    {
     "name": "stdout",
     "output_type": "stream",
     "text": [
      "0.7334777477210186\n"
     ]
    }
   ],
   "source": [
    "#deuxieme variables\n",
    "print(getDet(v11,v22))"
   ]
  },
  {
   "cell_type": "code",
   "execution_count": 138,
   "id": "52c30df7",
   "metadata": {},
   "outputs": [
    {
     "data": {
      "image/png": "[encoded data removed]",
      "text/plain": [
       "<Figure size 640x480 with 1 Axes>"
      ]
     },
     "metadata": {},
     "output_type": "display_data"
    }
   ],
   "source": [
    "plt.plot(v11, v22,'.',color='g')\n",
    "plt.plot(v11, getVal(v11,v11,v22),color='r')\n",
    "plt.xlabel('temperature')\n",
    "plt.ylabel('rendemment')\n",
    "plt.show()"
   ]
  },
  {
   "cell_type": "code",
   "execution_count": null,
   "id": "bdcb2d62",
   "metadata": {},
   "outputs": [],
   "source": []
  }
 ],
 "metadata": {
  "kernelspec": {
   "display_name": "Python 3 (ipykernel)",
   "language": "python",
   "name": "python3"
  },
  "language_info": {
   "codemirror_mode": {
    "name": "ipython",
    "version": 3
   },
   "file_extension": ".py",
   "mimetype": "text/x-python",
   "name": "python",
   "nbconvert_exporter": "python",
   "pygments_lexer": "ipython3",
   "version": "3.9.13"
  }
 },
 "nbformat": 4,
 "nbformat_minor": 5
}
